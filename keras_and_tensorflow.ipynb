{
 "cells": [
  {
   "cell_type": "markdown",
   "metadata": {},
   "source": [
    "# Neural Networks with keras and tensorflow\n",
    "\n",
    "N.B. You will need to pip install keras and tensorflow!"
   ]
  },
  {
   "cell_type": "code",
   "execution_count": 30,
   "metadata": {},
   "outputs": [],
   "source": [
    "from sklearn.datasets import load_breast_cancer\n",
    "from matplotlib import pyplot as plt\n",
    "import numpy as np\n",
    "from sklearn.model_selection import train_test_split\n",
    "from sklearn import metrics\n",
    "from sklearn.preprocessing import StandardScaler"
   ]
  },
  {
   "cell_type": "markdown",
   "metadata": {},
   "source": [
    "For this lesson we'll use sklearn's built-in breast cancer dataset. The next cell loads the data and prints the data description."
   ]
  },
  {
   "cell_type": "code",
   "execution_count": 31,
   "metadata": {},
   "outputs": [
    {
     "name": "stdout",
     "output_type": "stream",
     "text": [
      ".. _breast_cancer_dataset:\n",
      "\n",
      "Breast cancer wisconsin (diagnostic) dataset\n",
      "--------------------------------------------\n",
      "\n",
      "**Data Set Characteristics:**\n",
      "\n",
      "    :Number of Instances: 569\n",
      "\n",
      "    :Number of Attributes: 30 numeric, predictive attributes and the class\n",
      "\n",
      "    :Attribute Information:\n",
      "        - radius (mean of distances from center to points on the perimeter)\n",
      "        - texture (standard deviation of gray-scale values)\n",
      "        - perimeter\n",
      "        - area\n",
      "        - smoothness (local variation in radius lengths)\n",
      "        - compactness (perimeter^2 / area - 1.0)\n",
      "        - concavity (severity of concave portions of the contour)\n",
      "        - concave points (number of concave portions of the contour)\n",
      "        - symmetry \n",
      "        - fractal dimension (\"coastline approximation\" - 1)\n",
      "\n",
      "        The mean, standard error, and \"worst\" or largest (mean of the three\n",
      "        largest values) of these features were computed for each image,\n",
      "        resulting in 30 features.  For instance, field 3 is Mean Radius, field\n",
      "        13 is Radius SE, field 23 is Worst Radius.\n",
      "\n",
      "        - class:\n",
      "                - WDBC-Malignant\n",
      "                - WDBC-Benign\n",
      "\n",
      "    :Summary Statistics:\n",
      "\n",
      "    ===================================== ====== ======\n",
      "                                           Min    Max\n",
      "    ===================================== ====== ======\n",
      "    radius (mean):                        6.981  28.11\n",
      "    texture (mean):                       9.71   39.28\n",
      "    perimeter (mean):                     43.79  188.5\n",
      "    area (mean):                          143.5  2501.0\n",
      "    smoothness (mean):                    0.053  0.163\n",
      "    compactness (mean):                   0.019  0.345\n",
      "    concavity (mean):                     0.0    0.427\n",
      "    concave points (mean):                0.0    0.201\n",
      "    symmetry (mean):                      0.106  0.304\n",
      "    fractal dimension (mean):             0.05   0.097\n",
      "    radius (standard error):              0.112  2.873\n",
      "    texture (standard error):             0.36   4.885\n",
      "    perimeter (standard error):           0.757  21.98\n",
      "    area (standard error):                6.802  542.2\n",
      "    smoothness (standard error):          0.002  0.031\n",
      "    compactness (standard error):         0.002  0.135\n",
      "    concavity (standard error):           0.0    0.396\n",
      "    concave points (standard error):      0.0    0.053\n",
      "    symmetry (standard error):            0.008  0.079\n",
      "    fractal dimension (standard error):   0.001  0.03\n",
      "    radius (worst):                       7.93   36.04\n",
      "    texture (worst):                      12.02  49.54\n",
      "    perimeter (worst):                    50.41  251.2\n",
      "    area (worst):                         185.2  4254.0\n",
      "    smoothness (worst):                   0.071  0.223\n",
      "    compactness (worst):                  0.027  1.058\n",
      "    concavity (worst):                    0.0    1.252\n",
      "    concave points (worst):               0.0    0.291\n",
      "    symmetry (worst):                     0.156  0.664\n",
      "    fractal dimension (worst):            0.055  0.208\n",
      "    ===================================== ====== ======\n",
      "\n",
      "    :Missing Attribute Values: None\n",
      "\n",
      "    :Class Distribution: 212 - Malignant, 357 - Benign\n",
      "\n",
      "    :Creator:  Dr. William H. Wolberg, W. Nick Street, Olvi L. Mangasarian\n",
      "\n",
      "    :Donor: Nick Street\n",
      "\n",
      "    :Date: November, 1995\n",
      "\n",
      "This is a copy of UCI ML Breast Cancer Wisconsin (Diagnostic) datasets.\n",
      "https://goo.gl/U2Uwz2\n",
      "\n",
      "Features are computed from a digitized image of a fine needle\n",
      "aspirate (FNA) of a breast mass.  They describe\n",
      "characteristics of the cell nuclei present in the image.\n",
      "\n",
      "Separating plane described above was obtained using\n",
      "Multisurface Method-Tree (MSM-T) [K. P. Bennett, \"Decision Tree\n",
      "Construction Via Linear Programming.\" Proceedings of the 4th\n",
      "Midwest Artificial Intelligence and Cognitive Science Society,\n",
      "pp. 97-101, 1992], a classification method which uses linear\n",
      "programming to construct a decision tree.  Relevant features\n",
      "were selected using an exhaustive search in the space of 1-4\n",
      "features and 1-3 separating planes.\n",
      "\n",
      "The actual linear program used to obtain the separating plane\n",
      "in the 3-dimensional space is that described in:\n",
      "[K. P. Bennett and O. L. Mangasarian: \"Robust Linear\n",
      "Programming Discrimination of Two Linearly Inseparable Sets\",\n",
      "Optimization Methods and Software 1, 1992, 23-34].\n",
      "\n",
      "This database is also available through the UW CS ftp server:\n",
      "\n",
      "ftp ftp.cs.wisc.edu\n",
      "cd math-prog/cpo-dataset/machine-learn/WDBC/\n",
      "\n",
      ".. topic:: References\n",
      "\n",
      "   - W.N. Street, W.H. Wolberg and O.L. Mangasarian. Nuclear feature extraction \n",
      "     for breast tumor diagnosis. IS&T/SPIE 1993 International Symposium on \n",
      "     Electronic Imaging: Science and Technology, volume 1905, pages 861-870,\n",
      "     San Jose, CA, 1993.\n",
      "   - O.L. Mangasarian, W.N. Street and W.H. Wolberg. Breast cancer diagnosis and \n",
      "     prognosis via linear programming. Operations Research, 43(4), pages 570-577, \n",
      "     July-August 1995.\n",
      "   - W.H. Wolberg, W.N. Street, and O.L. Mangasarian. Machine learning techniques\n",
      "     to diagnose breast cancer from fine-needle aspirates. Cancer Letters 77 (1994) \n",
      "     163-171.\n"
     ]
    }
   ],
   "source": [
    "data = load_breast_cancer()\n",
    "print(data.DESCR)"
   ]
  },
  {
   "cell_type": "code",
   "execution_count": 32,
   "metadata": {},
   "outputs": [
    {
     "data": {
      "text/plain": [
       "StandardScaler(copy=True, with_mean=True, with_std=True)"
      ]
     },
     "execution_count": 32,
     "metadata": {},
     "output_type": "execute_result"
    }
   ],
   "source": [
    "# Splitting our data and initializing a Scaler\n",
    "X_train, X_test, y_train, y_test = train_test_split(data.data, data.target)\n",
    "\n",
    "ss = StandardScaler()\n",
    "ss.fit(X_train)\n"
   ]
  },
  {
   "cell_type": "code",
   "execution_count": 33,
   "metadata": {},
   "outputs": [
    {
     "data": {
      "text/plain": [
       "(426, 30)"
      ]
     },
     "execution_count": 33,
     "metadata": {},
     "output_type": "execute_result"
    }
   ],
   "source": [
    "# Transforming our data\n",
    "X_train_s = ss.transform(X_train)\n",
    "X_test_s = ss.transform(X_test)\n",
    "\n",
    "X_train_s.shape\n"
   ]
  },
  {
   "cell_type": "markdown",
   "metadata": {},
   "source": [
    "## Constructing a Neural Network in Keras"
   ]
  },
  {
   "cell_type": "code",
   "execution_count": 34,
   "metadata": {},
   "outputs": [],
   "source": [
    "# Importing model and layer types\n",
    "\n",
    "\n",
    "from keras.models import Sequential\n",
    "from keras.layers import Dense\n",
    "\n",
    "from keras.optimizers import Adam"
   ]
  },
  {
   "cell_type": "code",
   "execution_count": 35,
   "metadata": {},
   "outputs": [],
   "source": [
    "# Constructing and compiling our model\n",
    "\n",
    "model = Sequential()\n",
    "\n",
    "inputs = X_train_s.shape[1]\n",
    "\n",
    "hiddens = inputs\n",
    "\n",
    "model.add(Dense(hiddens, input_dim= inputs, activation='relu'))\n",
    "model.add(Dense(1))\n",
    "adam = Adam()\n",
    "\n",
    "model.compile(adam, loss='mean_squared_error')\n",
    "\n"
   ]
  },
  {
   "cell_type": "code",
   "execution_count": 36,
   "metadata": {},
   "outputs": [
    {
     "name": "stdout",
     "output_type": "stream",
     "text": [
      "Train on 426 samples, validate on 143 samples\n",
      "Epoch 1/110\n",
      "426/426 [==============================] - 0s 449us/step - loss: 1.3991 - val_loss: 0.9374\n",
      "Epoch 2/110\n",
      "426/426 [==============================] - 0s 48us/step - loss: 0.6573 - val_loss: 0.5287\n",
      "Epoch 3/110\n",
      "426/426 [==============================] - 0s 42us/step - loss: 0.4139 - val_loss: 0.3613\n",
      "Epoch 4/110\n",
      "426/426 [==============================] - 0s 61us/step - loss: 0.3059 - val_loss: 0.2722\n",
      "Epoch 5/110\n",
      "426/426 [==============================] - 0s 42us/step - loss: 0.2378 - val_loss: 0.2210\n",
      "Epoch 6/110\n",
      "426/426 [==============================] - 0s 55us/step - loss: 0.1960 - val_loss: 0.1811\n",
      "Epoch 7/110\n",
      "426/426 [==============================] - 0s 49us/step - loss: 0.1669 - val_loss: 0.1533\n",
      "Epoch 8/110\n",
      "426/426 [==============================] - 0s 38us/step - loss: 0.1465 - val_loss: 0.1448\n",
      "Epoch 9/110\n",
      "426/426 [==============================] - 0s 42us/step - loss: 0.1292 - val_loss: 0.1277\n",
      "Epoch 10/110\n",
      "426/426 [==============================] - 0s 44us/step - loss: 0.1163 - val_loss: 0.1159\n",
      "Epoch 11/110\n",
      "426/426 [==============================] - 0s 51us/step - loss: 0.1070 - val_loss: 0.1085\n",
      "Epoch 12/110\n",
      "426/426 [==============================] - 0s 44us/step - loss: 0.0990 - val_loss: 0.1048\n",
      "Epoch 13/110\n",
      "426/426 [==============================] - 0s 74us/step - loss: 0.0923 - val_loss: 0.0988\n",
      "Epoch 14/110\n",
      "426/426 [==============================] - 0s 43us/step - loss: 0.0872 - val_loss: 0.0972\n",
      "Epoch 15/110\n",
      "426/426 [==============================] - 0s 48us/step - loss: 0.0819 - val_loss: 0.0925\n",
      "Epoch 16/110\n",
      "426/426 [==============================] - 0s 50us/step - loss: 0.0784 - val_loss: 0.0917\n",
      "Epoch 17/110\n",
      "426/426 [==============================] - 0s 56us/step - loss: 0.0755 - val_loss: 0.0895\n",
      "Epoch 18/110\n",
      "426/426 [==============================] - 0s 35us/step - loss: 0.0721 - val_loss: 0.0872\n",
      "Epoch 19/110\n",
      "426/426 [==============================] - 0s 37us/step - loss: 0.0694 - val_loss: 0.0863\n",
      "Epoch 20/110\n",
      "426/426 [==============================] - 0s 40us/step - loss: 0.0666 - val_loss: 0.0841\n",
      "Epoch 21/110\n",
      "426/426 [==============================] - 0s 40us/step - loss: 0.0644 - val_loss: 0.0825\n",
      "Epoch 22/110\n",
      "426/426 [==============================] - 0s 41us/step - loss: 0.0625 - val_loss: 0.0827\n",
      "Epoch 23/110\n",
      "426/426 [==============================] - 0s 41us/step - loss: 0.0610 - val_loss: 0.0801\n",
      "Epoch 24/110\n",
      "426/426 [==============================] - 0s 49us/step - loss: 0.0585 - val_loss: 0.0797\n",
      "Epoch 25/110\n",
      "426/426 [==============================] - 0s 50us/step - loss: 0.0568 - val_loss: 0.0792\n",
      "Epoch 26/110\n",
      "426/426 [==============================] - 0s 43us/step - loss: 0.0552 - val_loss: 0.0787\n",
      "Epoch 27/110\n",
      "426/426 [==============================] - 0s 43us/step - loss: 0.0534 - val_loss: 0.0774\n",
      "Epoch 28/110\n",
      "426/426 [==============================] - 0s 43us/step - loss: 0.0524 - val_loss: 0.0771\n",
      "Epoch 29/110\n",
      "426/426 [==============================] - 0s 44us/step - loss: 0.0511 - val_loss: 0.0771\n",
      "Epoch 30/110\n",
      "426/426 [==============================] - 0s 41us/step - loss: 0.0499 - val_loss: 0.0766\n",
      "Epoch 31/110\n",
      "426/426 [==============================] - 0s 42us/step - loss: 0.0492 - val_loss: 0.0772\n",
      "Epoch 32/110\n",
      "426/426 [==============================] - 0s 49us/step - loss: 0.0480 - val_loss: 0.0754\n",
      "Epoch 33/110\n",
      "426/426 [==============================] - 0s 41us/step - loss: 0.0469 - val_loss: 0.0749\n",
      "Epoch 34/110\n",
      "426/426 [==============================] - 0s 42us/step - loss: 0.0464 - val_loss: 0.0748\n",
      "Epoch 35/110\n",
      "426/426 [==============================] - 0s 38us/step - loss: 0.0458 - val_loss: 0.0729\n",
      "Epoch 36/110\n",
      "426/426 [==============================] - 0s 77us/step - loss: 0.0446 - val_loss: 0.0736\n",
      "Epoch 37/110\n",
      "426/426 [==============================] - 0s 47us/step - loss: 0.0444 - val_loss: 0.0724\n",
      "Epoch 38/110\n",
      "426/426 [==============================] - 0s 47us/step - loss: 0.0438 - val_loss: 0.0732\n",
      "Epoch 39/110\n",
      "426/426 [==============================] - 0s 60us/step - loss: 0.0432 - val_loss: 0.0708\n",
      "Epoch 40/110\n",
      "426/426 [==============================] - 0s 51us/step - loss: 0.0426 - val_loss: 0.0695\n",
      "Epoch 41/110\n",
      "426/426 [==============================] - 0s 63us/step - loss: 0.0416 - val_loss: 0.0711\n",
      "Epoch 42/110\n",
      "426/426 [==============================] - 0s 52us/step - loss: 0.0413 - val_loss: 0.0692\n",
      "Epoch 43/110\n",
      "426/426 [==============================] - 0s 47us/step - loss: 0.0405 - val_loss: 0.0702\n",
      "Epoch 44/110\n",
      "426/426 [==============================] - 0s 49us/step - loss: 0.0403 - val_loss: 0.0676\n",
      "Epoch 45/110\n",
      "426/426 [==============================] - 0s 49us/step - loss: 0.0407 - val_loss: 0.0702\n",
      "Epoch 46/110\n",
      "426/426 [==============================] - 0s 42us/step - loss: 0.0392 - val_loss: 0.0661\n",
      "Epoch 47/110\n",
      "426/426 [==============================] - 0s 52us/step - loss: 0.0389 - val_loss: 0.0658\n",
      "Epoch 48/110\n",
      "426/426 [==============================] - 0s 46us/step - loss: 0.0378 - val_loss: 0.0673\n",
      "Epoch 49/110\n",
      "426/426 [==============================] - 0s 44us/step - loss: 0.0377 - val_loss: 0.0646\n",
      "Epoch 50/110\n",
      "426/426 [==============================] - 0s 48us/step - loss: 0.0370 - val_loss: 0.0663\n",
      "Epoch 51/110\n",
      "426/426 [==============================] - 0s 58us/step - loss: 0.0365 - val_loss: 0.0652\n",
      "Epoch 52/110\n",
      "426/426 [==============================] - 0s 50us/step - loss: 0.0363 - val_loss: 0.0666\n",
      "Epoch 53/110\n",
      "426/426 [==============================] - 0s 41us/step - loss: 0.0355 - val_loss: 0.0643\n",
      "Epoch 54/110\n",
      "426/426 [==============================] - 0s 50us/step - loss: 0.0352 - val_loss: 0.0641\n",
      "Epoch 55/110\n",
      "426/426 [==============================] - 0s 42us/step - loss: 0.0348 - val_loss: 0.0630\n",
      "Epoch 56/110\n",
      "426/426 [==============================] - 0s 41us/step - loss: 0.0343 - val_loss: 0.0648\n",
      "Epoch 57/110\n",
      "426/426 [==============================] - 0s 40us/step - loss: 0.0343 - val_loss: 0.0643\n",
      "Epoch 58/110\n",
      "426/426 [==============================] - 0s 52us/step - loss: 0.0338 - val_loss: 0.0654\n",
      "Epoch 59/110\n",
      "426/426 [==============================] - 0s 45us/step - loss: 0.0331 - val_loss: 0.0634\n",
      "Epoch 60/110\n",
      "426/426 [==============================] - 0s 40us/step - loss: 0.0330 - val_loss: 0.0632\n",
      "Epoch 61/110\n",
      "426/426 [==============================] - 0s 33us/step - loss: 0.0324 - val_loss: 0.0629\n",
      "Epoch 62/110\n",
      "426/426 [==============================] - 0s 35us/step - loss: 0.0318 - val_loss: 0.0626\n",
      "Epoch 63/110\n",
      "426/426 [==============================] - 0s 32us/step - loss: 0.0317 - val_loss: 0.0625\n",
      "Epoch 64/110\n",
      "426/426 [==============================] - 0s 32us/step - loss: 0.0314 - val_loss: 0.0617\n",
      "Epoch 65/110\n",
      "426/426 [==============================] - 0s 35us/step - loss: 0.0308 - val_loss: 0.0642\n",
      "Epoch 66/110\n",
      "426/426 [==============================] - 0s 39us/step - loss: 0.0309 - val_loss: 0.0622\n",
      "Epoch 67/110\n",
      "426/426 [==============================] - 0s 38us/step - loss: 0.0302 - val_loss: 0.0644\n",
      "Epoch 68/110\n",
      "426/426 [==============================] - 0s 35us/step - loss: 0.0303 - val_loss: 0.0615\n",
      "Epoch 69/110\n",
      "426/426 [==============================] - 0s 34us/step - loss: 0.0300 - val_loss: 0.0615\n",
      "Epoch 70/110\n",
      "426/426 [==============================] - 0s 32us/step - loss: 0.0296 - val_loss: 0.0624\n",
      "Epoch 71/110\n",
      "426/426 [==============================] - 0s 35us/step - loss: 0.0293 - val_loss: 0.0608\n",
      "Epoch 72/110\n",
      "426/426 [==============================] - 0s 34us/step - loss: 0.0290 - val_loss: 0.0617\n",
      "Epoch 73/110\n",
      "426/426 [==============================] - 0s 33us/step - loss: 0.0285 - val_loss: 0.0600\n",
      "Epoch 74/110\n",
      "426/426 [==============================] - 0s 41us/step - loss: 0.0281 - val_loss: 0.0605\n",
      "Epoch 75/110\n",
      "426/426 [==============================] - 0s 35us/step - loss: 0.0281 - val_loss: 0.0604\n",
      "Epoch 76/110\n",
      "426/426 [==============================] - 0s 32us/step - loss: 0.0278 - val_loss: 0.0620\n",
      "Epoch 77/110\n",
      "426/426 [==============================] - 0s 37us/step - loss: 0.0274 - val_loss: 0.0611\n",
      "Epoch 78/110\n",
      "426/426 [==============================] - 0s 29us/step - loss: 0.0277 - val_loss: 0.0616\n",
      "Epoch 79/110\n",
      "426/426 [==============================] - 0s 31us/step - loss: 0.0268 - val_loss: 0.0600\n",
      "Epoch 80/110\n"
     ]
    },
    {
     "name": "stdout",
     "output_type": "stream",
     "text": [
      "426/426 [==============================] - 0s 30us/step - loss: 0.0264 - val_loss: 0.0590\n",
      "Epoch 81/110\n",
      "426/426 [==============================] - 0s 38us/step - loss: 0.0265 - val_loss: 0.0594\n",
      "Epoch 82/110\n",
      "426/426 [==============================] - 0s 34us/step - loss: 0.0261 - val_loss: 0.0603\n",
      "Epoch 83/110\n",
      "426/426 [==============================] - 0s 40us/step - loss: 0.0259 - val_loss: 0.0599\n",
      "Epoch 84/110\n",
      "426/426 [==============================] - 0s 33us/step - loss: 0.0256 - val_loss: 0.0592\n",
      "Epoch 85/110\n",
      "426/426 [==============================] - 0s 33us/step - loss: 0.0254 - val_loss: 0.0593\n",
      "Epoch 86/110\n",
      "426/426 [==============================] - 0s 33us/step - loss: 0.0253 - val_loss: 0.0580\n",
      "Epoch 87/110\n",
      "426/426 [==============================] - 0s 33us/step - loss: 0.0249 - val_loss: 0.0579\n",
      "Epoch 88/110\n",
      "426/426 [==============================] - 0s 34us/step - loss: 0.0250 - val_loss: 0.0589\n",
      "Epoch 89/110\n",
      "426/426 [==============================] - 0s 35us/step - loss: 0.0245 - val_loss: 0.0571\n",
      "Epoch 90/110\n",
      "426/426 [==============================] - 0s 38us/step - loss: 0.0247 - val_loss: 0.0585\n",
      "Epoch 91/110\n",
      "426/426 [==============================] - 0s 33us/step - loss: 0.0241 - val_loss: 0.0576\n",
      "Epoch 92/110\n",
      "426/426 [==============================] - 0s 34us/step - loss: 0.0237 - val_loss: 0.0575\n",
      "Epoch 93/110\n",
      "426/426 [==============================] - 0s 34us/step - loss: 0.0236 - val_loss: 0.0572\n",
      "Epoch 94/110\n",
      "426/426 [==============================] - 0s 33us/step - loss: 0.0237 - val_loss: 0.0591\n",
      "Epoch 95/110\n",
      "426/426 [==============================] - 0s 33us/step - loss: 0.0234 - val_loss: 0.0564\n",
      "Epoch 96/110\n",
      "426/426 [==============================] - 0s 32us/step - loss: 0.0230 - val_loss: 0.0570\n",
      "Epoch 97/110\n",
      "426/426 [==============================] - 0s 31us/step - loss: 0.0229 - val_loss: 0.0573\n",
      "Epoch 98/110\n",
      "426/426 [==============================] - 0s 37us/step - loss: 0.0225 - val_loss: 0.0565\n",
      "Epoch 99/110\n",
      "426/426 [==============================] - 0s 37us/step - loss: 0.0227 - val_loss: 0.0559\n",
      "Epoch 100/110\n",
      "426/426 [==============================] - 0s 34us/step - loss: 0.0224 - val_loss: 0.0561\n",
      "Epoch 101/110\n",
      "426/426 [==============================] - 0s 36us/step - loss: 0.0222 - val_loss: 0.0576\n",
      "Epoch 102/110\n",
      "426/426 [==============================] - 0s 37us/step - loss: 0.0222 - val_loss: 0.0549\n",
      "Epoch 103/110\n",
      "426/426 [==============================] - 0s 34us/step - loss: 0.0217 - val_loss: 0.0572\n",
      "Epoch 104/110\n",
      "426/426 [==============================] - 0s 36us/step - loss: 0.0214 - val_loss: 0.0550\n",
      "Epoch 105/110\n",
      "426/426 [==============================] - 0s 36us/step - loss: 0.0213 - val_loss: 0.0544\n",
      "Epoch 106/110\n",
      "426/426 [==============================] - 0s 35us/step - loss: 0.0209 - val_loss: 0.0560\n",
      "Epoch 107/110\n",
      "426/426 [==============================] - 0s 37us/step - loss: 0.0209 - val_loss: 0.0561\n",
      "Epoch 108/110\n",
      "426/426 [==============================] - 0s 34us/step - loss: 0.0207 - val_loss: 0.0541\n",
      "Epoch 109/110\n",
      "426/426 [==============================] - 0s 37us/step - loss: 0.0204 - val_loss: 0.0539\n",
      "Epoch 110/110\n",
      "426/426 [==============================] - 0s 37us/step - loss: 0.0206 - val_loss: 0.0542\n"
     ]
    },
    {
     "data": {
      "text/plain": [
       "<keras.callbacks.History at 0x1a35c482b0>"
      ]
     },
     "execution_count": 36,
     "metadata": {},
     "output_type": "execute_result"
    }
   ],
   "source": [
    "# Fitting our model\n",
    "model.fit(X_train_s, y_train,\n",
    "          validation_data = (X_test_s, y_test), epochs=110)\n"
   ]
  },
  {
   "cell_type": "code",
   "execution_count": 37,
   "metadata": {},
   "outputs": [
    {
     "name": "stdout",
     "output_type": "stream",
     "text": [
      "Train on 426 samples, validate on 143 samples\n",
      "Epoch 1/100\n",
      "426/426 [==============================] - 0s 35us/step - loss: 0.0204 - val_loss: 0.0544\n",
      "Epoch 2/100\n",
      "426/426 [==============================] - 0s 40us/step - loss: 0.0201 - val_loss: 0.0546\n",
      "Epoch 3/100\n",
      "426/426 [==============================] - 0s 39us/step - loss: 0.0201 - val_loss: 0.0539\n",
      "Epoch 4/100\n",
      "426/426 [==============================] - 0s 39us/step - loss: 0.0207 - val_loss: 0.0525\n",
      "Epoch 5/100\n",
      "426/426 [==============================] - 0s 44us/step - loss: 0.0199 - val_loss: 0.0567\n",
      "Epoch 6/100\n",
      "426/426 [==============================] - 0s 35us/step - loss: 0.0203 - val_loss: 0.0528\n",
      "Epoch 7/100\n",
      "426/426 [==============================] - 0s 35us/step - loss: 0.0198 - val_loss: 0.0538\n",
      "Epoch 8/100\n",
      "426/426 [==============================] - 0s 47us/step - loss: 0.0191 - val_loss: 0.0534\n",
      "Epoch 9/100\n",
      "426/426 [==============================] - 0s 44us/step - loss: 0.0193 - val_loss: 0.0519\n",
      "Epoch 10/100\n",
      "426/426 [==============================] - 0s 39us/step - loss: 0.0186 - val_loss: 0.0522\n",
      "Epoch 11/100\n",
      "426/426 [==============================] - 0s 52us/step - loss: 0.0188 - val_loss: 0.0537\n",
      "Epoch 12/100\n",
      "426/426 [==============================] - 0s 37us/step - loss: 0.0185 - val_loss: 0.0521\n",
      "Epoch 13/100\n",
      "426/426 [==============================] - 0s 43us/step - loss: 0.0184 - val_loss: 0.0532\n",
      "Epoch 14/100\n",
      "426/426 [==============================] - 0s 44us/step - loss: 0.0184 - val_loss: 0.0517\n",
      "Epoch 15/100\n",
      "426/426 [==============================] - 0s 51us/step - loss: 0.0186 - val_loss: 0.0516\n",
      "Epoch 16/100\n",
      "426/426 [==============================] - 0s 45us/step - loss: 0.0182 - val_loss: 0.0533\n",
      "Epoch 17/100\n",
      "426/426 [==============================] - 0s 45us/step - loss: 0.0178 - val_loss: 0.0507\n",
      "Epoch 18/100\n",
      "426/426 [==============================] - 0s 46us/step - loss: 0.0179 - val_loss: 0.0518\n",
      "Epoch 19/100\n",
      "426/426 [==============================] - 0s 41us/step - loss: 0.0175 - val_loss: 0.0512\n",
      "Epoch 20/100\n",
      "426/426 [==============================] - 0s 41us/step - loss: 0.0176 - val_loss: 0.0509\n",
      "Epoch 21/100\n",
      "426/426 [==============================] - 0s 42us/step - loss: 0.0171 - val_loss: 0.0522\n",
      "Epoch 22/100\n",
      "426/426 [==============================] - 0s 46us/step - loss: 0.0176 - val_loss: 0.0501\n",
      "Epoch 23/100\n",
      "426/426 [==============================] - 0s 37us/step - loss: 0.0178 - val_loss: 0.0522\n",
      "Epoch 24/100\n",
      "426/426 [==============================] - 0s 40us/step - loss: 0.0171 - val_loss: 0.0519\n",
      "Epoch 25/100\n",
      "426/426 [==============================] - 0s 40us/step - loss: 0.0169 - val_loss: 0.0499\n",
      "Epoch 26/100\n",
      "426/426 [==============================] - 0s 40us/step - loss: 0.0165 - val_loss: 0.0513\n",
      "Epoch 27/100\n",
      "426/426 [==============================] - 0s 47us/step - loss: 0.0166 - val_loss: 0.0517\n",
      "Epoch 28/100\n",
      "426/426 [==============================] - 0s 46us/step - loss: 0.0163 - val_loss: 0.0507\n",
      "Epoch 29/100\n",
      "426/426 [==============================] - 0s 53us/step - loss: 0.0166 - val_loss: 0.0498\n",
      "Epoch 30/100\n",
      "426/426 [==============================] - 0s 62us/step - loss: 0.0159 - val_loss: 0.0484\n",
      "Epoch 31/100\n",
      "426/426 [==============================] - 0s 58us/step - loss: 0.0162 - val_loss: 0.0500\n",
      "Epoch 32/100\n",
      "426/426 [==============================] - 0s 59us/step - loss: 0.0157 - val_loss: 0.0512\n",
      "Epoch 33/100\n",
      "426/426 [==============================] - 0s 67us/step - loss: 0.0155 - val_loss: 0.0484\n",
      "Epoch 34/100\n",
      "426/426 [==============================] - 0s 52us/step - loss: 0.0157 - val_loss: 0.0493\n",
      "Epoch 35/100\n",
      "426/426 [==============================] - 0s 41us/step - loss: 0.0154 - val_loss: 0.0501\n",
      "Epoch 36/100\n",
      "426/426 [==============================] - 0s 38us/step - loss: 0.0149 - val_loss: 0.0488\n",
      "Epoch 37/100\n",
      "426/426 [==============================] - 0s 37us/step - loss: 0.0155 - val_loss: 0.0494\n",
      "Epoch 38/100\n",
      "426/426 [==============================] - 0s 43us/step - loss: 0.0150 - val_loss: 0.0516\n",
      "Epoch 39/100\n",
      "426/426 [==============================] - 0s 29us/step - loss: 0.0149 - val_loss: 0.0488\n",
      "Epoch 40/100\n",
      "426/426 [==============================] - 0s 40us/step - loss: 0.0145 - val_loss: 0.0502\n",
      "Epoch 41/100\n",
      "426/426 [==============================] - 0s 44us/step - loss: 0.0148 - val_loss: 0.0506\n",
      "Epoch 42/100\n",
      "426/426 [==============================] - 0s 42us/step - loss: 0.0151 - val_loss: 0.0479\n",
      "Epoch 43/100\n",
      "426/426 [==============================] - 0s 40us/step - loss: 0.0145 - val_loss: 0.0490\n",
      "Epoch 44/100\n",
      "426/426 [==============================] - 0s 41us/step - loss: 0.0143 - val_loss: 0.0482\n",
      "Epoch 45/100\n",
      "426/426 [==============================] - 0s 44us/step - loss: 0.0138 - val_loss: 0.0491\n",
      "Epoch 46/100\n",
      "426/426 [==============================] - 0s 41us/step - loss: 0.0145 - val_loss: 0.0483\n",
      "Epoch 47/100\n",
      "426/426 [==============================] - 0s 47us/step - loss: 0.0142 - val_loss: 0.0501\n",
      "Epoch 48/100\n",
      "426/426 [==============================] - 0s 45us/step - loss: 0.0140 - val_loss: 0.0502\n",
      "Epoch 49/100\n",
      "426/426 [==============================] - 0s 48us/step - loss: 0.0135 - val_loss: 0.0511\n",
      "Epoch 50/100\n",
      "426/426 [==============================] - 0s 34us/step - loss: 0.0136 - val_loss: 0.0480\n",
      "Epoch 51/100\n",
      "426/426 [==============================] - 0s 47us/step - loss: 0.0131 - val_loss: 0.0488\n",
      "Epoch 52/100\n",
      "426/426 [==============================] - 0s 43us/step - loss: 0.0132 - val_loss: 0.0479\n",
      "Epoch 53/100\n",
      "426/426 [==============================] - 0s 54us/step - loss: 0.0132 - val_loss: 0.0499\n",
      "Epoch 54/100\n",
      "426/426 [==============================] - 0s 40us/step - loss: 0.0133 - val_loss: 0.0507\n",
      "Epoch 55/100\n",
      "426/426 [==============================] - 0s 38us/step - loss: 0.0131 - val_loss: 0.0497\n",
      "Epoch 56/100\n",
      "426/426 [==============================] - 0s 50us/step - loss: 0.0130 - val_loss: 0.0478\n",
      "Epoch 57/100\n",
      "426/426 [==============================] - 0s 39us/step - loss: 0.0125 - val_loss: 0.0509\n",
      "Epoch 58/100\n",
      "426/426 [==============================] - 0s 49us/step - loss: 0.0126 - val_loss: 0.0483\n",
      "Epoch 59/100\n",
      "426/426 [==============================] - 0s 39us/step - loss: 0.0125 - val_loss: 0.0497\n",
      "Epoch 60/100\n",
      "426/426 [==============================] - 0s 61us/step - loss: 0.0128 - val_loss: 0.0481\n",
      "Epoch 61/100\n",
      "426/426 [==============================] - 0s 39us/step - loss: 0.0125 - val_loss: 0.0490\n",
      "Epoch 62/100\n",
      "426/426 [==============================] - 0s 38us/step - loss: 0.0127 - val_loss: 0.0512\n",
      "Epoch 63/100\n",
      "426/426 [==============================] - 0s 41us/step - loss: 0.0129 - val_loss: 0.0534\n",
      "Epoch 64/100\n",
      "426/426 [==============================] - 0s 41us/step - loss: 0.0126 - val_loss: 0.0483\n",
      "Epoch 65/100\n",
      "426/426 [==============================] - 0s 37us/step - loss: 0.0123 - val_loss: 0.0482\n",
      "Epoch 66/100\n",
      "426/426 [==============================] - 0s 35us/step - loss: 0.0122 - val_loss: 0.0512\n",
      "Epoch 67/100\n",
      "426/426 [==============================] - 0s 38us/step - loss: 0.0121 - val_loss: 0.0487\n",
      "Epoch 68/100\n",
      "426/426 [==============================] - 0s 38us/step - loss: 0.0118 - val_loss: 0.0487\n",
      "Epoch 69/100\n",
      "426/426 [==============================] - 0s 32us/step - loss: 0.0122 - val_loss: 0.0492\n",
      "Epoch 70/100\n",
      "426/426 [==============================] - 0s 40us/step - loss: 0.0121 - val_loss: 0.0491\n",
      "Epoch 71/100\n",
      "426/426 [==============================] - 0s 36us/step - loss: 0.0118 - val_loss: 0.0494\n",
      "Epoch 72/100\n",
      "426/426 [==============================] - 0s 35us/step - loss: 0.0119 - val_loss: 0.0495\n",
      "Epoch 73/100\n",
      "426/426 [==============================] - 0s 43us/step - loss: 0.0115 - val_loss: 0.0507\n",
      "Epoch 74/100\n",
      "426/426 [==============================] - 0s 39us/step - loss: 0.0114 - val_loss: 0.0483\n",
      "Epoch 75/100\n",
      "426/426 [==============================] - 0s 39us/step - loss: 0.0124 - val_loss: 0.0530\n",
      "Epoch 76/100\n",
      "426/426 [==============================] - 0s 36us/step - loss: 0.0125 - val_loss: 0.0557\n",
      "Epoch 77/100\n",
      "426/426 [==============================] - 0s 40us/step - loss: 0.0120 - val_loss: 0.0496\n",
      "Epoch 78/100\n",
      "426/426 [==============================] - 0s 38us/step - loss: 0.0115 - val_loss: 0.0501\n",
      "Epoch 79/100\n",
      "426/426 [==============================] - 0s 35us/step - loss: 0.0110 - val_loss: 0.0530\n",
      "Epoch 80/100\n"
     ]
    },
    {
     "name": "stdout",
     "output_type": "stream",
     "text": [
      "426/426 [==============================] - 0s 35us/step - loss: 0.0110 - val_loss: 0.0496\n",
      "Epoch 81/100\n",
      "426/426 [==============================] - 0s 37us/step - loss: 0.0111 - val_loss: 0.0513\n",
      "Epoch 82/100\n",
      "426/426 [==============================] - 0s 39us/step - loss: 0.0110 - val_loss: 0.0509\n",
      "Epoch 83/100\n",
      "426/426 [==============================] - 0s 39us/step - loss: 0.0107 - val_loss: 0.0531\n",
      "Epoch 84/100\n",
      "426/426 [==============================] - 0s 37us/step - loss: 0.0113 - val_loss: 0.0504\n",
      "Epoch 85/100\n",
      "426/426 [==============================] - 0s 34us/step - loss: 0.0121 - val_loss: 0.0524\n",
      "Epoch 86/100\n",
      "426/426 [==============================] - 0s 36us/step - loss: 0.0110 - val_loss: 0.0517\n",
      "Epoch 87/100\n",
      "426/426 [==============================] - 0s 37us/step - loss: 0.0111 - val_loss: 0.0508\n",
      "Epoch 88/100\n",
      "426/426 [==============================] - 0s 43us/step - loss: 0.0105 - val_loss: 0.0511\n",
      "Epoch 89/100\n",
      "426/426 [==============================] - 0s 36us/step - loss: 0.0103 - val_loss: 0.0533\n",
      "Epoch 90/100\n",
      "426/426 [==============================] - 0s 32us/step - loss: 0.0102 - val_loss: 0.0516\n",
      "Epoch 91/100\n",
      "426/426 [==============================] - 0s 34us/step - loss: 0.0104 - val_loss: 0.0506\n",
      "Epoch 92/100\n",
      "426/426 [==============================] - 0s 37us/step - loss: 0.0103 - val_loss: 0.0518\n",
      "Epoch 93/100\n",
      "426/426 [==============================] - 0s 36us/step - loss: 0.0102 - val_loss: 0.0522\n",
      "Epoch 94/100\n",
      "426/426 [==============================] - 0s 39us/step - loss: 0.0103 - val_loss: 0.0537\n",
      "Epoch 95/100\n",
      "426/426 [==============================] - 0s 41us/step - loss: 0.0100 - val_loss: 0.0522\n",
      "Epoch 96/100\n",
      "426/426 [==============================] - 0s 39us/step - loss: 0.0099 - val_loss: 0.0525\n",
      "Epoch 97/100\n",
      "426/426 [==============================] - 0s 37us/step - loss: 0.0099 - val_loss: 0.0522\n",
      "Epoch 98/100\n",
      "426/426 [==============================] - 0s 38us/step - loss: 0.0100 - val_loss: 0.0512\n",
      "Epoch 99/100\n",
      "426/426 [==============================] - 0s 39us/step - loss: 0.0099 - val_loss: 0.0527\n",
      "Epoch 100/100\n",
      "426/426 [==============================] - 0s 39us/step - loss: 0.0095 - val_loss: 0.0536\n"
     ]
    }
   ],
   "source": [
    "# Storing that fit as a history log\n",
    "\n",
    "history_log = model.fit(X_train_s, y_train,\n",
    "          validation_data = (X_test_s, y_test), epochs=100)\n",
    "\n"
   ]
  },
  {
   "cell_type": "code",
   "execution_count": 38,
   "metadata": {},
   "outputs": [
    {
     "data": {
      "text/plain": [
       "<matplotlib.legend.Legend at 0x1a35ff1e80>"
      ]
     },
     "execution_count": 38,
     "metadata": {},
     "output_type": "execute_result"
    },
    {
     "data": {
      "image/png": "[encoded data removed]",
      "text/plain": [
       "<Figure size 432x288 with 1 Axes>"
      ]
     },
     "metadata": {
      "needs_background": "light"
     },
     "output_type": "display_data"
    }
   ],
   "source": [
    "# Plotting our losses\n",
    "\n",
    "train_loss = history_log.history['loss']\n",
    "test_loss = history_log.history['val_loss']\n",
    "\n",
    "\n",
    "plt.plot(train_loss, label='Training Loss')\n",
    "plt.plot(test_loss, label='Testing Loss')\n",
    "\n",
    "plt.legend()\n",
    "\n"
   ]
  },
  {
   "cell_type": "markdown",
   "metadata": {},
   "source": [
    "## Tensorflow"
   ]
  },
  {
   "cell_type": "code",
   "execution_count": 40,
   "metadata": {},
   "outputs": [],
   "source": [
    "\n",
    "\n",
    "\n",
    "import tensorflow as tf\n",
    "\n",
    "\n",
    "\n",
    "\n"
   ]
  },
  {
   "cell_type": "markdown",
   "metadata": {},
   "source": [
    "### Tensorflow as a graph constructor"
   ]
  },
  {
   "cell_type": "code",
   "execution_count": 58,
   "metadata": {},
   "outputs": [
    {
     "data": {
      "text/plain": [
       "8"
      ]
     },
     "execution_count": 58,
     "metadata": {},
     "output_type": "execute_result"
    }
   ],
   "source": [
    "# Constructing the graph\n",
    "\n",
    "a = 3\n",
    "b = 5\n",
    "c = a+ b\n",
    "c\n"
   ]
  },
  {
   "cell_type": "code",
   "execution_count": 56,
   "metadata": {},
   "outputs": [
    {
     "data": {
      "text/plain": [
       "17"
      ]
     },
     "execution_count": 56,
     "metadata": {},
     "output_type": "execute_result"
    }
   ],
   "source": [
    "a += 1\n",
    "a"
   ]
  },
  {
   "cell_type": "code",
   "execution_count": 59,
   "metadata": {},
   "outputs": [],
   "source": [
    "a = tf.Variable(3)\n",
    "b = tf.Variable(5)\n",
    "c = a + b\n",
    "d = a + c * b"
   ]
  },
  {
   "cell_type": "code",
   "execution_count": 63,
   "metadata": {},
   "outputs": [
    {
     "name": "stdout",
     "output_type": "stream",
     "text": [
      "43\n"
     ]
    }
   ],
   "source": [
    "init = tf.global_variables_initializer()\n",
    "\n",
    "with tf.Session() as sess:\n",
    "    init.run()\n",
    "    result = sess.run(d)\n",
    "print(result)"
   ]
  },
  {
   "cell_type": "code",
   "execution_count": null,
   "metadata": {},
   "outputs": [],
   "source": []
  },
  {
   "cell_type": "code",
   "execution_count": null,
   "metadata": {},
   "outputs": [],
   "source": []
  },
  {
   "cell_type": "code",
   "execution_count": null,
   "metadata": {},
   "outputs": [],
   "source": []
  },
  {
   "cell_type": "code",
   "execution_count": 8,
   "metadata": {},
   "outputs": [],
   "source": [
    "# Starting a session\n",
    "\n"
   ]
  },
  {
   "cell_type": "code",
   "execution_count": 9,
   "metadata": {},
   "outputs": [],
   "source": [
    "# Printing the output\n",
    "\n"
   ]
  },
  {
   "cell_type": "markdown",
   "metadata": {},
   "source": [
    "### Neural Network"
   ]
  },
  {
   "cell_type": "code",
   "execution_count": 65,
   "metadata": {},
   "outputs": [
    {
     "data": {
      "text/plain": [
       "(426, 30)"
      ]
     },
     "execution_count": 65,
     "metadata": {},
     "output_type": "execute_result"
    }
   ],
   "source": [
    "\n",
    "\n",
    "\n",
    "X_train_s.shape\n",
    "\n",
    "\n"
   ]
  },
  {
   "cell_type": "code",
   "execution_count": 66,
   "metadata": {},
   "outputs": [
    {
     "name": "stdout",
     "output_type": "stream",
     "text": [
      "WARNING:tensorflow:From <ipython-input-66-d26d6f2c7d0c>:6: dense (from tensorflow.python.layers.core) is deprecated and will be removed in a future version.\n",
      "Instructions for updating:\n",
      "Use keras.layers.dense instead.\n",
      "WARNING:tensorflow:From /Applications/anaconda3/envs/learn-env/lib/python3.7/site-packages/tensorflow/python/ops/losses/losses_impl.py:514: to_float (from tensorflow.python.ops.math_ops) is deprecated and will be removed in a future version.\n",
      "Instructions for updating:\n",
      "Use tf.cast instead.\n"
     ]
    }
   ],
   "source": [
    "tf.reset_default_graph()\n",
    "\n",
    "X = tf.placeholder(dtype=tf.float32, shape=(None, 30))\n",
    "y = tf.placeholder(dtype=tf.float32, shape=(None, 1))\n",
    "\n",
    "hid = tf.layers.dense(X, 30, activation=tf.nn.relu)\n",
    "y_hat = tf.layers.dense(hid, 1, activation=tf.nn.sigmoid)\n",
    "\n",
    "loss = tf.losses.log_loss(y, y_hat)\n",
    "optimizer = tf.train.AdamOptimizer(0.01)\n",
    "training_run = optimizer.minimize(loss)\n",
    "\n",
    "saver = tf.train.Saver()"
   ]
  },
  {
   "cell_type": "code",
   "execution_count": 68,
   "metadata": {},
   "outputs": [
    {
     "data": {
      "text/plain": [
       "0.3776223776223776"
      ]
     },
     "execution_count": 68,
     "metadata": {},
     "output_type": "execute_result"
    }
   ],
   "source": [
    "init = tf.global_variables_initializer()\n",
    "\n",
    "with tf.Session() as sess:\n",
    "    init.run()\n",
    "    \n",
    "    for _ in range(100):\n",
    "        sess.run(training_run, feed_dict={X: X_train_s, y: y_train.reshape(-1, 1)})\n",
    "        \n",
    "    pred = sess.run(y_hat, feed_dict={X: X_test})\n",
    "\n",
    "classes = (pred > 0.5).astype(int)\n",
    "\n",
    "metrics.accuracy_score(y_test.reshape(-1, 1), classes)"
   ]
  },
  {
   "cell_type": "code",
   "execution_count": null,
   "metadata": {},
   "outputs": [],
   "source": []
  }
 ],
 "metadata": {
  "kernelspec": {
   "display_name": "learn-env",
   "language": "python",
   "name": "learn-env"
  },
  "language_info": {
   "codemirror_mode": {
    "name": "ipython",
    "version": 3
   },
   "file_extension": ".py",
   "mimetype": "text/x-python",
   "name": "python",
   "nbconvert_exporter": "python",
   "pygments_lexer": "ipython3",
   "version": "3.7.0"
  }
 },
 "nbformat": 4,
 "nbformat_minor": 2
}
